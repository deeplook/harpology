{
 "cells": [
  {
   "cell_type": "markdown",
   "metadata": {},
   "source": [
    "# Simple Harp.gl examples\n",
    "\n",
    "This shows a dead-simple way of rendering Harp.gl maps inside Jupyter via IFrames, first. The goal is to have these better integrated into Jupyter notebooks, much like the existing [ipyleaflet](https://github.com/jupyter-widgets/ipyleaflet) ones... "
   ]
  },
  {
   "cell_type": "code",
   "execution_count": 3,
   "metadata": {},
   "outputs": [],
   "source": [
    "from os.path import basename\n",
    "import psutil\n",
    "from IPython.display import IFrame"
   ]
  },
  {
   "cell_type": "code",
   "execution_count": 8,
   "metadata": {},
   "outputs": [],
   "source": [
    "def get_jupyter_port():\n",
    "    \"Find port of Jupyter server as it appears in its URL.\"\n",
    "    for pid in psutil.pids():\n",
    "        p = psutil.Process(pid)\n",
    "        try:\n",
    "            if not \" \".join(p.cmdline()).find(\"jupyter\") >= 0:\n",
    "                continue\n",
    "        except (psutil.AccessDenied, psutil.ZombieProcess):\n",
    "            continue\n",
    "        for conn in p.connections():\n",
    "            if len(conn.raddr) == 0:\n",
    "                return conn.laddr.port\n",
    "        return None"
   ]
  },
  {
   "cell_type": "markdown",
   "metadata": {},
   "source": [
    "Make sure to run the \"FileBrowser\" service from the Jupyter notebook's \"New\" command first, before executing the next cell! "
   ]
  },
  {
   "cell_type": "code",
   "execution_count": 9,
   "metadata": {
    "scrolled": false
   },
   "outputs": [
    {
     "data": {
      "text/html": [
       "\n",
       "        <iframe\n",
       "            width=\"800\"\n",
       "            height=\"300\"\n",
       "            src=\"http://127.0.0.1:8888/FileBrowser/harpgl/example1/example.html\"\n",
       "            frameborder=\"0\"\n",
       "            allowfullscreen\n",
       "        ></iframe>\n",
       "        "
      ],
      "text/plain": [
       "<IPython.lib.display.IFrame at 0x11105bf98>"
      ]
     },
     "execution_count": 9,
     "metadata": {},
     "output_type": "execute_result"
    }
   ],
   "source": [
    "port = get_jupyter_port()\n",
    "url = f\"http://127.0.0.1:{port}/FileBrowser/harpgl/example3/example.html\"\n",
    "IFrame(src=url, width=800, height=400)"
   ]
  }
 ],
 "metadata": {
  "kernelspec": {
   "display_name": "Python 3",
   "language": "python",
   "name": "python3"
  },
  "language_info": {
   "codemirror_mode": {
    "name": "ipython",
    "version": 3
   },
   "file_extension": ".py",
   "mimetype": "text/x-python",
   "name": "python",
   "nbconvert_exporter": "python",
   "pygments_lexer": "ipython3",
   "version": "3.7.3"
  },
  "nteract": {
   "version": "0.15.0"
  }
 },
 "nbformat": 4,
 "nbformat_minor": 2
}
